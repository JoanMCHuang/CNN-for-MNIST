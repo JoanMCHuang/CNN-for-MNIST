{
 "cells": [
  {
   "cell_type": "markdown",
   "metadata": {},
   "source": [
    "# MNIST 模型強化"
   ]
  },
  {
   "cell_type": "markdown",
   "metadata": {},
   "source": [
    "## 步驟1：載入 MNIST 手寫阿拉伯數字資料"
   ]
  },
  {
   "cell_type": "code",
   "execution_count": 1,
   "metadata": {},
   "outputs": [],
   "source": [
    "import tensorflow as tf\n",
    "mnist = tf.keras.datasets.mnist\n",
    "\n",
    "# 載入 MNIST 手寫阿拉伯數字資料\n",
    "(x_train, y_train),(x_test, y_test) = mnist.load_data()\n",
    "\n",
    "\n",
    "## 步驟2：資料清理，此步驟無需進行\n",
    "\n",
    "## 步驟3：進行特徵工程，將特徵縮放成(0, 1)之間\n",
    "\n",
    "# 特徵縮放，使用常態化(Normalization)，公式 = (x - min) / (max - min)\n",
    "# 顏色範圍：0~255，所以，公式簡化為 x / 255\n",
    "# 注意，顏色0為白色，與RGB顏色不同，(0,0,0) 為黑色。\n",
    "x_train_norm, x_test_norm = x_train / 255.0, x_test / 255.0"
   ]
  },
  {
   "cell_type": "code",
   "execution_count": 2,
   "metadata": {},
   "outputs": [
    {
     "data": {
      "text/plain": [
       "(60000, 28, 28)"
      ]
     },
     "execution_count": 2,
     "metadata": {},
     "output_type": "execute_result"
    }
   ],
   "source": [
    "x_train_norm.shape"
   ]
  },
  {
   "cell_type": "markdown",
   "metadata": {},
   "source": [
    "## 步驟2：改用 CNN 模型"
   ]
  },
  {
   "cell_type": "code",
   "execution_count": 3,
   "metadata": {},
   "outputs": [],
   "source": [
    "# 建立模型\n",
    "from tensorflow.keras import layers\n",
    "import numpy as np\n",
    "\n",
    "input_shape=(28, 28, 1)\n",
    "# 增加一維在最後面\n",
    "x_train_norm = np.expand_dims(x_train_norm, -1)\n",
    "x_test_norm = np.expand_dims(x_test_norm, -1)\n",
    "\n",
    "# CNN 模型\n",
    "# model = tf.keras.Sequential(\n",
    "#     [\n",
    "#         tf.keras.Input(shape=input_shape),\n",
    "#         layers.Conv2D(32, kernel_size=(3, 3), activation=\"relu\"),\n",
    "#         layers.MaxPooling2D(pool_size=(2, 2)),\n",
    "#         layers.Conv2D(64, kernel_size=(3, 3), activation=\"relu\"),\n",
    "#         layers.MaxPooling2D(pool_size=(2, 2)),\n",
    "#         layers.Flatten(),\n",
    "#         layers.Dropout(0.5),\n",
    "#         layers.Dense(10, activation=\"softmax\"),\n",
    "#     ]\n",
    "# )"
   ]
  },
  {
   "cell_type": "code",
   "execution_count": 4,
   "metadata": {},
   "outputs": [],
   "source": [
    "from tensorflow.keras.layers import *\n",
    "\n",
    "model = tf.keras.models.Sequential()\n",
    "model.add(tf.keras.Input(shape=input_shape))\n",
    "model.add(Conv2D(filters=32, kernel_size=(5,5), activation='relu'))\n",
    "model.add(Conv2D(filters=32, kernel_size=(5,5), activation='relu'))\n",
    "model.add(MaxPool2D(pool_size=(2, 2)))\n",
    "model.add(Dropout(rate=0.25))\n",
    "\n",
    "model.add(Conv2D(filters=64, kernel_size=(3, 3), activation='relu'))\n",
    "model.add(Conv2D(filters=64, kernel_size=(3, 3), activation='relu'))\n",
    "model.add(MaxPool2D(pool_size=(2, 2)))\n",
    "model.add(Dropout(rate=0.25))\n",
    "\n",
    "model.add(Flatten())\n",
    "model.add(Dense(256, activation='relu'))\n",
    "model.add(Dropout(rate=0.5))\n",
    "model.add(Dense(10, activation='softmax'))\n"
   ]
  },
  {
   "cell_type": "code",
   "execution_count": 16,
   "metadata": {},
   "outputs": [],
   "source": [
    "datagen = tf.keras.preprocessing.image.ImageDataGenerator(\n",
    "        rotation_range=10,\n",
    "        zoom_range=0.1,\n",
    "        width_shift_range=0.1,\n",
    "        height_shift_range=0.1)\n"
   ]
  },
  {
   "cell_type": "code",
   "execution_count": 19,
   "metadata": {},
   "outputs": [
    {
     "name": "stdout",
     "output_type": "stream",
     "text": [
      "Epoch 1/15\n",
      "1875/1875 - 18s - loss: 0.1170 - accuracy: 0.9676 - val_loss: 0.0466 - val_accuracy: 0.9858 - 18s/epoch - 10ms/step\n",
      "Epoch 2/15\n",
      "1875/1875 - 17s - loss: 0.0772 - accuracy: 0.9776 - val_loss: 0.0392 - val_accuracy: 0.9877 - 17s/epoch - 9ms/step\n",
      "Epoch 3/15\n",
      "1875/1875 - 18s - loss: 0.0706 - accuracy: 0.9801 - val_loss: 0.0341 - val_accuracy: 0.9882 - 18s/epoch - 10ms/step\n",
      "Epoch 4/15\n",
      "1875/1875 - 17s - loss: 0.0661 - accuracy: 0.9812 - val_loss: 0.0342 - val_accuracy: 0.9888 - 17s/epoch - 9ms/step\n",
      "Epoch 5/15\n",
      "1875/1875 - 16s - loss: 0.0629 - accuracy: 0.9822 - val_loss: 0.0312 - val_accuracy: 0.9900 - 16s/epoch - 9ms/step\n",
      "Epoch 6/15\n",
      "1875/1875 - 18s - loss: 0.0627 - accuracy: 0.9832 - val_loss: 0.0358 - val_accuracy: 0.9904 - 18s/epoch - 9ms/step\n",
      "Epoch 7/15\n",
      "1875/1875 - 19s - loss: 0.0593 - accuracy: 0.9835 - val_loss: 0.0297 - val_accuracy: 0.9912 - 19s/epoch - 10ms/step\n",
      "Epoch 8/15\n",
      "1875/1875 - 18s - loss: 0.0592 - accuracy: 0.9829 - val_loss: 0.0330 - val_accuracy: 0.9908 - 18s/epoch - 10ms/step\n",
      "Epoch 9/15\n",
      "1875/1875 - 19s - loss: 0.0584 - accuracy: 0.9843 - val_loss: 0.0308 - val_accuracy: 0.9908 - 19s/epoch - 10ms/step\n",
      "Epoch 10/15\n",
      "1875/1875 - 20s - loss: 0.0570 - accuracy: 0.9840 - val_loss: 0.0288 - val_accuracy: 0.9913 - 20s/epoch - 11ms/step\n",
      "Epoch 11/15\n",
      "1875/1875 - 19s - loss: 0.0556 - accuracy: 0.9848 - val_loss: 0.0281 - val_accuracy: 0.9909 - 19s/epoch - 10ms/step\n",
      "Epoch 12/15\n",
      "1875/1875 - 19s - loss: 0.0570 - accuracy: 0.9840 - val_loss: 0.0311 - val_accuracy: 0.9911 - 19s/epoch - 10ms/step\n",
      "Epoch 13/15\n",
      "1875/1875 - 19s - loss: 0.0547 - accuracy: 0.9850 - val_loss: 0.0338 - val_accuracy: 0.9901 - 19s/epoch - 10ms/step\n",
      "Epoch 14/15\n",
      "1875/1875 - 17s - loss: 0.0518 - accuracy: 0.9851 - val_loss: 0.0313 - val_accuracy: 0.9910 - 17s/epoch - 9ms/step\n",
      "Epoch 15/15\n",
      "1875/1875 - 18s - loss: 0.0526 - accuracy: 0.9855 - val_loss: 0.0340 - val_accuracy: 0.9904 - 18s/epoch - 9ms/step\n",
      "loss: 0.0239\n",
      "accuracy: 0.9933\n"
     ]
    }
   ],
   "source": [
    "# 設定優化器(optimizer)、損失函數(loss)、效能衡量指標(metrics)的類別\n",
    "model.compile(optimizer='adam',\n",
    "              loss='sparse_categorical_crossentropy',\n",
    "              metrics=['accuracy'])\n",
    "\n",
    "# 模型訓練\n",
    "# history = model.fit(x_train_norm, y_train, epochs=15, validation_split=0.2)\n",
    "batch_size=64\n",
    "history = model.fit(datagen.flow(x_train_norm, y_train), epochs=15,\n",
    "          validation_data=datagen.flow(x_test_norm, y_test, batch_size=batch_size), verbose=2)\n",
    "\n",
    "\n",
    "# 評分(Score Model)\n",
    "score=model.evaluate(x_test_norm, y_test, verbose=0)\n",
    "\n",
    "for i, x in enumerate(score):\n",
    "    print(f'{model.metrics_names[i]}: {score[i]:.4f}')"
   ]
  },
  {
   "cell_type": "code",
   "execution_count": 21,
   "metadata": {},
   "outputs": [
    {
     "name": "stdout",
     "output_type": "stream",
     "text": [
      "[0]\n",
      "[1]\n",
      "[2]\n",
      "[3]\n",
      "[4]\n",
      "[5]\n",
      "[6]\n",
      "[7]\n",
      "[8]\n",
      "[9]\n"
     ]
    }
   ],
   "source": [
    "# 讀取影像並轉為單色\n",
    "from skimage import io\n",
    "from skimage.transform import resize\n",
    "import numpy as np\n",
    "\n",
    "for i in range(10):\n",
    "    uploaded_file = f'../extra/myDigits/{i}.png'\n",
    "    image1 = io.imread(uploaded_file, as_gray=True)\n",
    "\n",
    "    # 縮為 (28, 28) 大小的影像\n",
    "    image_resized = resize(image1, (28, 28), anti_aliasing=True)    \n",
    "    X1 = image_resized.reshape(1,28, 28, 1) #/ 255\n",
    "\n",
    "    # 反轉顏色，顏色0為白色，與 RGB 色碼不同，它的 0 為黑色\n",
    "    X1 = np.abs(1-X1)\n",
    "\n",
    "    # 預測\n",
    "    #predictions = model.predict_classes(X1)\n",
    "    predictions = np.argmax(model.predict(X1), axis=-1)\n",
    "    print(predictions)"
   ]
  },
  {
   "cell_type": "code",
   "execution_count": 22,
   "metadata": {},
   "outputs": [],
   "source": [
    "# 模型存檔\n",
    "model.save('cnn_da_model.h5')"
   ]
  },
  {
   "cell_type": "code",
   "execution_count": null,
   "metadata": {},
   "outputs": [],
   "source": []
  }
 ],
 "metadata": {
  "kernelspec": {
   "display_name": "Python 3 (ipykernel)",
   "language": "python",
   "name": "python3"
  },
  "language_info": {
   "codemirror_mode": {
    "name": "ipython",
    "version": 3
   },
   "file_extension": ".py",
   "mimetype": "text/x-python",
   "name": "python",
   "nbconvert_exporter": "python",
   "pygments_lexer": "ipython3",
   "version": "3.9.12"
  }
 },
 "nbformat": 4,
 "nbformat_minor": 4
}
